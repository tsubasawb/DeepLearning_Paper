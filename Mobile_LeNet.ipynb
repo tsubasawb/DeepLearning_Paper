{
 "cells": [
  {
   "cell_type": "markdown",
   "metadata": {},
   "source": [
    "# Load MNIST data"
   ]
  },
  {
   "cell_type": "markdown",
   "metadata": {},
   "source": [
    "https://github.com/keras-team/keras/blob/master/examples/mnist_mlp.py"
   ]
  },
  {
   "cell_type": "code",
   "execution_count": 96,
   "metadata": {},
   "outputs": [],
   "source": [
    "import keras\n",
    "from keras.datasets import mnist\n",
    "from keras.models import Sequential, Model\n",
    "from keras.layers import Input, Dense, Dropout, Flatten, Conv2D, MaxPooling2D, SeparableConv2D, GlobalAveragePooling2D, Activation, Multiply\n",
    "from keras.optimizers import RMSprop\n",
    "from keras import backend as K\n",
    "\n",
    "batch_size = 128\n",
    "num_classes = 10\n",
    "epochs = 3"
   ]
  },
  {
   "cell_type": "code",
   "execution_count": 29,
   "metadata": {},
   "outputs": [
    {
     "name": "stdout",
     "output_type": "stream",
     "text": [
      "60000 train samples\n",
      "10000 test samples\n"
     ]
    }
   ],
   "source": [
    "# the data, split between train and test sets\n",
    "(x_train, y_train), (x_test, y_test) = mnist.load_data()\n",
    "\n",
    "x_train = x_train.reshape(60000, 28, 28, 1)\n",
    "x_test = x_test.reshape(10000, 28, 28, 1)\n",
    "x_train = x_train.astype('float32')\n",
    "x_test = x_test.astype('float32')\n",
    "x_train /= 255\n",
    "x_test /= 255\n",
    "print(x_train.shape[0], 'train samples')\n",
    "print(x_test.shape[0], 'test samples')\n",
    "\n",
    "# convert class vectors to binary class matrices\n",
    "y_train = keras.utils.to_categorical(y_train, num_classes)\n",
    "y_test = keras.utils.to_categorical(y_test, num_classes)"
   ]
  },
  {
   "cell_type": "markdown",
   "metadata": {},
   "source": [
    "# Normal CNN"
   ]
  },
  {
   "cell_type": "code",
   "execution_count": 84,
   "metadata": {},
   "outputs": [
    {
     "name": "stdout",
     "output_type": "stream",
     "text": [
      "_________________________________________________________________\n",
      "Layer (type)                 Output Shape              Param #   \n",
      "=================================================================\n",
      "conv2d_15 (Conv2D)           (None, 26, 26, 32)        320       \n",
      "_________________________________________________________________\n",
      "conv2d_16 (Conv2D)           (None, 24, 24, 64)        18496     \n",
      "_________________________________________________________________\n",
      "max_pooling2d_26 (MaxPooling (None, 12, 12, 64)        0         \n",
      "_________________________________________________________________\n",
      "dropout_43 (Dropout)         (None, 12, 12, 64)        0         \n",
      "_________________________________________________________________\n",
      "flatten_26 (Flatten)         (None, 9216)              0         \n",
      "_________________________________________________________________\n",
      "dense_77 (Dense)             (None, 10)                92170     \n",
      "=================================================================\n",
      "Total params: 110,986\n",
      "Trainable params: 110,986\n",
      "Non-trainable params: 0\n",
      "_________________________________________________________________\n"
     ]
    }
   ],
   "source": [
    "model = Sequential()\n",
    "model.add(Conv2D(32, kernel_size=(3, 3), activation='relu', input_shape=(28, 28, 1)))\n",
    "model.add(Conv2D(64, kernel_size=(3, 3), activation='relu'))\n",
    "model.add(MaxPooling2D(pool_size=(2, 2)))\n",
    "model.add(Dropout(0.2))\n",
    "model.add(Flatten())\n",
    "model.add(Dense(10, activation='softmax'))\n",
    "\n",
    "model.summary()\n",
    "\n",
    "model.compile(loss='categorical_crossentropy',\n",
    "              optimizer=RMSprop(),\n",
    "              metrics=['accuracy'])"
   ]
  },
  {
   "cell_type": "code",
   "execution_count": 85,
   "metadata": {},
   "outputs": [
    {
     "name": "stdout",
     "output_type": "stream",
     "text": [
      "Train on 60000 samples, validate on 10000 samples\n",
      "Epoch 1/3\n",
      "60000/60000 [==============================] - 182s 3ms/step - loss: 0.1890 - acc: 0.9431 - val_loss: 0.0634 - val_acc: 0.9783\n",
      "Epoch 2/3\n",
      "60000/60000 [==============================] - 204s 3ms/step - loss: 0.0636 - acc: 0.9811 - val_loss: 0.0470 - val_acc: 0.9848\n",
      "Epoch 3/3\n",
      "60000/60000 [==============================] - 218s 4ms/step - loss: 0.0479 - acc: 0.9861 - val_loss: 0.0457 - val_acc: 0.9839\n",
      "Test loss: 0.045710997666278855\n",
      "Test accuracy: 0.9839\n"
     ]
    }
   ],
   "source": [
    "history = model.fit(x_train, y_train,\n",
    "                    batch_size=batch_size,\n",
    "                    epochs=epochs,\n",
    "                    verbose=1,\n",
    "                    validation_data=(x_test, y_test))\n",
    "score = model.evaluate(x_test, y_test, verbose=0)\n",
    "print('Test loss:', score[0])\n",
    "print('Test accuracy:', score[1])"
   ]
  },
  {
   "cell_type": "markdown",
   "metadata": {},
   "source": [
    "# Depthwise Separable CNN"
   ]
  },
  {
   "cell_type": "markdown",
   "metadata": {},
   "source": [
    "https://keras.io/ja/layers/convolutional/"
   ]
  },
  {
   "cell_type": "code",
   "execution_count": 83,
   "metadata": {},
   "outputs": [
    {
     "name": "stdout",
     "output_type": "stream",
     "text": [
      "_________________________________________________________________\n",
      "Layer (type)                 Output Shape              Param #   \n",
      "=================================================================\n",
      "separable_conv2d_38 (Separab (None, 26, 26, 32)        73        \n",
      "_________________________________________________________________\n",
      "separable_conv2d_39 (Separab (None, 24, 24, 64)        2400      \n",
      "_________________________________________________________________\n",
      "max_pooling2d_25 (MaxPooling (None, 12, 12, 64)        0         \n",
      "_________________________________________________________________\n",
      "dropout_42 (Dropout)         (None, 12, 12, 64)        0         \n",
      "_________________________________________________________________\n",
      "flatten_25 (Flatten)         (None, 9216)              0         \n",
      "_________________________________________________________________\n",
      "dense_76 (Dense)             (None, 10)                92170     \n",
      "=================================================================\n",
      "Total params: 94,643\n",
      "Trainable params: 94,643\n",
      "Non-trainable params: 0\n",
      "_________________________________________________________________\n"
     ]
    }
   ],
   "source": [
    "# Mobile net\n",
    "model = Sequential()\n",
    "model.add(SeparableConv2D(32, kernel_size=(3, 3), activation='relu', input_shape=(28, 28, 1)))\n",
    "model.add(SeparableConv2D(64, kernel_size=(3, 3), activation='relu'))\n",
    "model.add(MaxPooling2D(pool_size=(2, 2)))\n",
    "model.add(Dropout(0.2))\n",
    "model.add(Flatten())\n",
    "model.add(Dense(10, activation='softmax'))\n",
    "\n",
    "model.summary()\n",
    "\n",
    "model.compile(loss='categorical_crossentropy',\n",
    "              optimizer=RMSprop(),\n",
    "              metrics=['accuracy'])"
   ]
  },
  {
   "cell_type": "code",
   "execution_count": 59,
   "metadata": {},
   "outputs": [
    {
     "name": "stdout",
     "output_type": "stream",
     "text": [
      "Train on 60000 samples, validate on 10000 samples\n",
      "Epoch 1/3\n",
      "60000/60000 [==============================] - 106s 2ms/step - loss: 0.3548 - acc: 0.8994 - val_loss: 0.1664 - val_acc: 0.9492\n",
      "Epoch 2/3\n",
      "60000/60000 [==============================] - 107s 2ms/step - loss: 0.1569 - acc: 0.9531 - val_loss: 0.1262 - val_acc: 0.9621\n",
      "Epoch 3/3\n",
      "60000/60000 [==============================] - 106s 2ms/step - loss: 0.1129 - acc: 0.9659 - val_loss: 0.0968 - val_acc: 0.9699\n",
      "Test loss: 0.09679398665204644\n",
      "Test accuracy: 0.9699\n"
     ]
    }
   ],
   "source": [
    "history = model.fit(x_train, y_train,\n",
    "                    batch_size=batch_size,\n",
    "                    epochs=epochs,\n",
    "                    verbose=1,\n",
    "                    validation_data=(x_test, y_test))\n",
    "score = model.evaluate(x_test, y_test, verbose=0)\n",
    "print('Test loss:', score[0])\n",
    "print('Test accuracy:', score[1])"
   ]
  },
  {
   "cell_type": "markdown",
   "metadata": {},
   "source": [
    "# Depthwise Separable + SE CNN"
   ]
  },
  {
   "cell_type": "markdown",
   "metadata": {},
   "source": [
    "https://keras.io/ja/layers/pooling/"
   ]
  },
  {
   "cell_type": "code",
   "execution_count": 104,
   "metadata": {},
   "outputs": [
    {
     "name": "stdout",
     "output_type": "stream",
     "text": [
      "__________________________________________________________________________________________________\n",
      "Layer (type)                    Output Shape         Param #     Connected to                     \n",
      "==================================================================================================\n",
      "input_26 (InputLayer)           (None, 28, 28, 1)    0                                            \n",
      "__________________________________________________________________________________________________\n",
      "separable_conv2d_58 (SeparableC (None, 26, 26, 32)   73          input_26[0][0]                   \n",
      "__________________________________________________________________________________________________\n",
      "global_average_pooling2d_31 (Gl (None, 32)           0           separable_conv2d_58[0][0]        \n",
      "__________________________________________________________________________________________________\n",
      "dense_130 (Dense)               (None, 2)            66          global_average_pooling2d_31[0][0]\n",
      "__________________________________________________________________________________________________\n",
      "dense_131 (Dense)               (None, 32)           96          dense_130[0][0]                  \n",
      "__________________________________________________________________________________________________\n",
      "multiply_14 (Multiply)          (None, 26, 26, 32)   0           separable_conv2d_58[0][0]        \n",
      "                                                                 dense_131[0][0]                  \n",
      "__________________________________________________________________________________________________\n",
      "activation_16 (Activation)      (None, 26, 26, 32)   0           multiply_14[0][0]                \n",
      "__________________________________________________________________________________________________\n",
      "separable_conv2d_59 (SeparableC (None, 24, 24, 64)   2400        activation_16[0][0]              \n",
      "__________________________________________________________________________________________________\n",
      "global_average_pooling2d_32 (Gl (None, 64)           0           separable_conv2d_59[0][0]        \n",
      "__________________________________________________________________________________________________\n",
      "dense_132 (Dense)               (None, 4)            260         global_average_pooling2d_32[0][0]\n",
      "__________________________________________________________________________________________________\n",
      "dense_133 (Dense)               (None, 64)           320         dense_132[0][0]                  \n",
      "__________________________________________________________________________________________________\n",
      "multiply_15 (Multiply)          (None, 24, 24, 64)   0           separable_conv2d_59[0][0]        \n",
      "                                                                 dense_133[0][0]                  \n",
      "__________________________________________________________________________________________________\n",
      "activation_17 (Activation)      (None, 24, 24, 64)   0           multiply_15[0][0]                \n",
      "__________________________________________________________________________________________________\n",
      "max_pooling2d_35 (MaxPooling2D) (None, 12, 12, 64)   0           activation_17[0][0]              \n",
      "__________________________________________________________________________________________________\n",
      "dropout_52 (Dropout)            (None, 12, 12, 64)   0           max_pooling2d_35[0][0]           \n",
      "__________________________________________________________________________________________________\n",
      "flatten_35 (Flatten)            (None, 9216)         0           dropout_52[0][0]                 \n",
      "__________________________________________________________________________________________________\n",
      "dense_134 (Dense)               (None, 10)           92170       flatten_35[0][0]                 \n",
      "__________________________________________________________________________________________________\n",
      "dense_135 (Dense)               (None, 10)           110         dense_134[0][0]                  \n",
      "==================================================================================================\n",
      "Total params: 95,495\n",
      "Trainable params: 95,495\n",
      "Non-trainable params: 0\n",
      "__________________________________________________________________________________________________\n"
     ]
    }
   ],
   "source": [
    "# Mobile + SE net\n",
    "reduction_rate = 16\n",
    "\n",
    "inputs = Input(shape=(28,28,1))\n",
    "x = SeparableConv2D(32, kernel_size=(3, 3), activation=None)(inputs)\n",
    "se = GlobalAveragePooling2D()(x)\n",
    "se = Dense(32//reduction_rate, activation='relu')(se)\n",
    "se = Dense(32, activation='sigmoid')(se)\n",
    "x = Multiply()([x, se])\n",
    "x = Activation('relu')(x)\n",
    "x = SeparableConv2D(64, kernel_size=(3, 3), activation=None)(x)\n",
    "se = GlobalAveragePooling2D()(x)\n",
    "se = Dense(64//reduction_rate, activation='relu')(se)\n",
    "se = Dense(64, activation='sigmoid')(se)\n",
    "x = Multiply()([x, se])\n",
    "x = Activation('relu')(x)\n",
    "x = MaxPooling2D(pool_size=(2, 2))(x)\n",
    "x = Dropout(0.2)(x)\n",
    "x = Flatten()(x)\n",
    "x = Dense(10, activation='softmax')(x)\n",
    "predictions = Dense(10, activation='softmax')(x)\n",
    "\n",
    "model = Model(inputs=inputs, outputs=predictions)\n",
    "model.summary()\n",
    "\n",
    "model.compile(loss='categorical_crossentropy',\n",
    "              optimizer=RMSprop(),\n",
    "              metrics=['accuracy'])"
   ]
  },
  {
   "cell_type": "code",
   "execution_count": null,
   "metadata": {},
   "outputs": [
    {
     "name": "stdout",
     "output_type": "stream",
     "text": [
      "Train on 60000 samples, validate on 10000 samples\n",
      "Epoch 1/3\n",
      "60000/60000 [==============================] - 202s 3ms/step - loss: 1.7807 - acc: 0.5783 - val_loss: 1.4940 - val_acc: 0.6412\n",
      "Epoch 2/3\n",
      "14848/60000 [======>.......................] - ETA: 2:42 - loss: 1.4226 - acc: 0.6555"
     ]
    }
   ],
   "source": [
    "history = model.fit(x_train, y_train,\n",
    "                    batch_size=batch_size,\n",
    "                    epochs=epochs,\n",
    "                    verbose=1,\n",
    "                    validation_data=(x_test, y_test))\n",
    "score = model.evaluate(x_test, y_test, verbose=0)\n",
    "print('Test loss:', score[0])\n",
    "print('Test accuracy:', score[1])"
   ]
  },
  {
   "cell_type": "code",
   "execution_count": null,
   "metadata": {},
   "outputs": [],
   "source": []
  }
 ],
 "metadata": {
  "kernelspec": {
   "display_name": "Python 3",
   "language": "python",
   "name": "python3"
  },
  "language_info": {
   "codemirror_mode": {
    "name": "ipython",
    "version": 3
   },
   "file_extension": ".py",
   "mimetype": "text/x-python",
   "name": "python",
   "nbconvert_exporter": "python",
   "pygments_lexer": "ipython3",
   "version": "3.6.4"
  }
 },
 "nbformat": 4,
 "nbformat_minor": 2
}
